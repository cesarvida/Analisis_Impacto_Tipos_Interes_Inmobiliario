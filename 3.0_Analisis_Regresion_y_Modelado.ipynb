{
 "cells": [
  {
   "cell_type": "code",
   "execution_count": null,
   "id": "dc1dd505",
   "metadata": {},
   "outputs": [],
   "source": [
    "import pandas as pd\n",
    "import statsmodels.api as sm\n",
    "from statsmodels.formula.api import ols\n",
    "\n",
    "# Cargar el DataFrame limpio y mensual\n",
    "df = pd.read_csv('datos_analisis_mensual.csv', index_col='DATE', parse_dates=True)\n",
    "\n",
    "# 1. Definir la fórmula del modelo (OLS: Mínimos Cuadrados Ordinarios)\n",
    "# Variable dependiente: Indice_Precios_Vivienda\n",
    "# Variables independientes: Tasa_Hip_30Años y Inflacion_CPI\n",
    "formula = 'Indice_Precios_Vivienda ~ Tasa_Hip_30Años + Inflacion_CPI'\n",
    "\n",
    "# 2. Ajustar el modelo\n",
    "modelo = ols(formula, data=df).fit()\n",
    "\n",
    "# 3. Mostrar el resumen del modelo\n",
    "print(\"--- Resumen del Modelo de Regresión Lineal Múltiple ---\")\n",
    "print(modelo.summary())"
   ]
  },
  {
   "cell_type": "code",
   "execution_count": null,
   "id": "410ca15a",
   "metadata": {},
   "outputs": [],
   "source": []
  }
 ],
 "metadata": {
  "kernelspec": {
   "display_name": "venv",
   "language": "python",
   "name": "python3"
  },
  "language_info": {
   "name": "python",
   "version": "3.13.5"
  }
 },
 "nbformat": 4,
 "nbformat_minor": 5
}
